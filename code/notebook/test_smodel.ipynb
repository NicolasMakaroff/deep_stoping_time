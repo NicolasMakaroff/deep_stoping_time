{
 "cells": [
  {
   "cell_type": "code",
   "execution_count": 8,
   "metadata": {
    "collapsed": true,
    "pycharm": {
     "is_executing": false
    }
   },
   "outputs": [],
   "source": [
    "import os\n",
    "import sys\n",
    "import numpy as np\n",
    "# Important directories\n",
    "code_dir = os.path.dirname(os.getcwd())\n",
    "module_dir = os.path.dirname(os.path.dirname(os.getcwd()))\n",
    "\n",
    "# Allows to import my own module\n",
    "sys.path.insert(0, code_dir)\n",
    "\n",
    "from LongstaffSchwarz.smodel import Heston"
   ]
  },
  {
   "cell_type": "code",
   "execution_count": 80,
   "metadata": {},
   "outputs": [],
   "source": [
    "def integral(A=None,dF=None,F=None,axis = 0,trapez = False,cumulative = False):\n",
    "    '''\n",
    "    Turns an array A of length N (the function values in N points)\n",
    "    and an array dF of length N-1 (the masses of the N-1 intervals)\n",
    "    into an array of length N (the integral \\int A dF at N points, with first entry 0)\n",
    "    \n",
    "    :param A: Integrand (optional, default ones, length N)\n",
    "    :param dF: Integrator (optional, default ones, length N-1)\n",
    "    :param F: Alternative to dF (optional, length N)\n",
    "    :param trapez: Use trapezoidal rule (else left point)\n",
    "    '''\n",
    "    ndim = max(v.ndim for v in (A,dF,F) if v is not None)\n",
    "    def broadcast(x):\n",
    "        new_shape = [1]*ndim\n",
    "        new_shape[axis] = -1\n",
    "        return np.reshape(x,new_shape)\n",
    "    if F is not None:\n",
    "        assert(dF is None)\n",
    "        if F.ndim<ndim:\n",
    "            F = broadcast(F)\n",
    "        N = F.shape[axis]\n",
    "        dF = F.take(indices = range(1,N),axis = axis)-F.take(indices = range(N-1),axis = axis)\n",
    "    elif dF is not None:\n",
    "        if dF.ndim<ndim:\n",
    "            dF = broadcast(dF)\n",
    "        N = dF.shape[axis]+1\n",
    "    else:\n",
    "        if A.ndim<ndim:\n",
    "            A = broadcast(A)\n",
    "        N = A.shape[axis]\n",
    "    if A is not None:\n",
    "        if trapez:\n",
    "            midA = (A.take(indices = range(1,N),axis = axis)+A.take(indices = range(N-1),axis = axis))/2\n",
    "        else:\n",
    "            if axis:\n",
    "                midA = A.take(indices=range(N-1),axis=axis)\n",
    "            else:\n",
    "                midA = A[:-1]\n",
    "        if dF is not None:\n",
    "            dY = midA*dF\n",
    "        else:\n",
    "            dY = midA\n",
    "    else:\n",
    "        dY = dF\n",
    "    pad_shape = list(dY.shape)\n",
    "    pad_shape[axis] = 1\n",
    "    pad = np.zeros(pad_shape)\n",
    "    if cumulative:\n",
    "        return np.concatenate((pad,np.cumsum(dY,axis = axis)),axis = axis)\n",
    "    else:\n",
    "        return np.sum(dY,axis = axis)\n",
    "def heston(times,mu,rho,kappa,theta,xi,S0,nu0,d,M,nu_1d=True, random=np.random):\n",
    "    '''\n",
    "    Return M Euler-Maruyama sample paths with N time steps of (S_t,v_t), where\n",
    "        (S_t,v_t) follows the Heston model of mathematical finance. \n",
    "    Currently requires times to be uniform\n",
    "    :rtype: M x N x d array\n",
    "    '''\n",
    "    d_nu = 1 if nu_1d else d\n",
    "    N = len(times)\n",
    "    nu = np.zeros((M,N,d_nu))\n",
    "    S = np.zeros((M,N,d))\n",
    "    nu[:,0,:] = nu0\n",
    "    S[:,0,:] = S0\n",
    "    if 2*kappa*theta<=xi**2:\n",
    "        raise ValueError('Feller condition not satisfied')\n",
    "    test = np.std(np.diff(times.flatten())) \n",
    "    if test>1e-12:\n",
    "        raise ValueError\n",
    "    dt = times[1]-times[0]\n",
    "    if d == 1:\n",
    "        if np.array(rho).size ==1:\n",
    "            rho = np.array([[1,rho],[rho,1]])\n",
    "    chol = np.linalg.cholesky(rho)\n",
    "    dW = np.sqrt(dt)*np.einsum('ij,...j',chol,random.normal(size=(M,N-1,d+d_nu)))\n",
    "    for i in range(1,N):\n",
    "        nu[:,i,:] = np.abs(nu[:,i-1,:] + kappa*(theta-nu[:,i-1,:])*dt+xi*np.sqrt(nu[:,i-1,:])*dW[:,i-1,d:])\n",
    "    S = S0*np.exp(integral(np.sqrt(nu),dF = dW[:,:,:d],axis=1,cumulative = True)+integral(mu - 0.5*nu,F = times,axis=1,trapez=False,cumulative = True))\n",
    "    return np.concatenate((S,nu),axis=-1)"
   ]
  },
  {
   "cell_type": "code",
   "execution_count": 119,
   "metadata": {
    "pycharm": {
     "is_executing": false,
     "name": "#%%\n"
    }
   },
   "outputs": [],
   "source": [
    "import numpy as np\n",
    "import scipy.stats as stats\n",
    "\n",
    "\n",
    "class BS:\n",
    "\n",
    "    def __init__(self, S, K, T, r, sigma, times, mu, rho, kappa, theta, xi, nu0, d, M, option='call'):\n",
    "        self.S0 = S\n",
    "        self.K = K\n",
    "        self.T = T\n",
    "        self.r = r\n",
    "        self.sigma = sigma\n",
    "        self.option = option\n",
    "        self.times = times\n",
    "        self.mu = mu\n",
    "        self.rho = rho\n",
    "        self.kappa = kappa\n",
    "        self.theta = theta\n",
    "        self.xi = xi\n",
    "        self.nu0 = nu0\n",
    "        self.d = d\n",
    "        self.M = M\n",
    "\n",
    "    def simulate(self):\n",
    "\n",
    "        # S: spot price\n",
    "        # K: strike price\n",
    "        # T: time to maturity\n",
    "        # r: interest rate\n",
    "        # sigma: volatility of underlying asset\n",
    "\n",
    "        d1 = (np.log(self.S / self.K) + (self.r + 0.5 * self.sigma ** 2) * self.T) / (self.sigma * np.sqrt(self.T))\n",
    "        d2 = (np.log(self.S / self.K) + (self.r - 0.5 * self.sigma ** 2) * self.T) / (self.sigma * np.sqrt(self.T))\n",
    "\n",
    "        if self.option == 'call':\n",
    "            return self.S * stats.norm.cdf(d1, 0.0, 1.0) - self.K * np.exp(-self.r * self.T) * stats.norm.cdf(d2, 0.0, 1.0)\n",
    "        if self.option == 'put':\n",
    "            return self.K * np.exp(-self.r * self.T) * stats.norm.cdf(-d2, 0.0, 1.0) - self.S * stats.norm.cdf(-d1, 0.0, 1.0)\n",
    "        else:\n",
    "            raise NameError(\"Option undefined\")\n",
    "\n",
    "    def LSM(self, N=10000, paths=10000, order=2, S_defined = 'bs'):\n",
    "        \"\"\"\n",
    "        Longstaff-Schwartz Method for pricing American options\n",
    "\n",
    "        Arguments\n",
    "        ---------\n",
    "\n",
    "        N: int\n",
    "         number of time steps\n",
    "        paths: int\n",
    "         number of generated paths\n",
    "        order: int\n",
    "         order of the polynomial for the regression\n",
    "        \"\"\"\n",
    "\n",
    "        if self.option != \"put\":\n",
    "            raise ValueError(\"invalid type. Set 'call' or 'put'\")\n",
    "\n",
    "        dt = self.T / (N - 1)  # time interval\n",
    "        df = np.exp(-self.r * dt)  # discount factor per time time interval\n",
    "\n",
    "\n",
    "        X0 = np.zeros((paths, 1))\n",
    "        hes = np.zeros((N,paths,2))\n",
    "        for i in range(N):\n",
    "            hes[i,:,:] = heston(self.times,self.mu,self.rho,self.kappa,self.theta,self.xi,self.S0,self.nu0,self.d,self.M,nu_1d=True, random=np.random)\n",
    "        S = self.S0 * np.exp(hes)\n",
    "\n",
    "        H = np.maximum(S - self.K, 0)  # intrinsic values for put option\n",
    "        V = np.zeros_like(H)  # value matrix\n",
    "        V[:, -1] = H[:, -1]\n",
    "        print(hes.shape)\n",
    "        # Valuation by LS Method\n",
    "        for t in range(N - 2, 0, -1):\n",
    "            good_paths = H[:, t,0] > 0\n",
    "\n",
    "            #S = np.array([hes[0,:,0]/self.K,hes[0,:,0]/self.K,hes[0,:,0]/self.K * hes[0,:,1]/self.theta])\n",
    "            rg = np.polyfit(S[good_paths, t,0], V[good_paths, t + 1] * df, order)  # polynomial regression\n",
    "            C = np.polyval(rg, S[good_paths, t])  # evaluation of regression\n",
    "\n",
    "            exercise = np.zeros(len(good_paths), dtype=bool)\n",
    "            print(H[good_paths, t,0].shape)\n",
    "            exercise[good_paths] = H[good_paths, t, 0] > C\n",
    "\n",
    "            V[exercise, t] = H[exercise, t]\n",
    "            V[exercise, t + 1:] = 0\n",
    "            discount_path = (V[:, t] == 0)\n",
    "            V[discount_path, t] = V[discount_path, t + 1] * df\n",
    "\n",
    "        V0 = np.mean(V[:, 1]) * df  #\n",
    "        return V0"
   ]
  },
  {
   "cell_type": "code",
   "execution_count": null,
   "metadata": {
    "pycharm": {
     "name": "#%%\n"
    }
   },
   "outputs": [],
   "source": []
  },
  {
   "cell_type": "code",
   "execution_count": 120,
   "metadata": {},
   "outputs": [
    {
     "name": "stdout",
     "output_type": "stream",
     "text": [
      "(100, 100, 2)\n",
      "(100,)\n"
     ]
    },
    {
     "ename": "ValueError",
     "evalue": "operands could not be broadcast together with shapes (100,) (100,2) ",
     "output_type": "error",
     "traceback": [
      "\u001b[0;31m---------------------------------------------------------------------------\u001b[0m",
      "\u001b[0;31mValueError\u001b[0m                                Traceback (most recent call last)",
      "\u001b[0;32m<ipython-input-120-b24ed390b75a>\u001b[0m in \u001b[0;36m<module>\u001b[0;34m\u001b[0m\n\u001b[1;32m      2\u001b[0m bs = BS( S = 1, K = 1, T = 1, r = 0.05, sigma = 0.5, times = np.linspace(0,1,100), mu = 0.5, rho = -0.7, kappa = 0.5, \n\u001b[1;32m      3\u001b[0m         theta = 0.5, xi = 0.5, nu0 = 0.5, d = 1, M = 1, option='put')\n\u001b[0;32m----> 4\u001b[0;31m \u001b[0mbs\u001b[0m\u001b[0;34m.\u001b[0m\u001b[0mLSM\u001b[0m\u001b[0;34m(\u001b[0m\u001b[0;36m100\u001b[0m\u001b[0;34m,\u001b[0m\u001b[0;36m100\u001b[0m\u001b[0;34m)\u001b[0m\u001b[0;34m\u001b[0m\u001b[0;34m\u001b[0m\u001b[0m\n\u001b[0m\u001b[1;32m      5\u001b[0m \u001b[0;31m#res = heston(np.linspace(0,1,10000),0.5,-0.7,0.5,0.5,0.5,1,1,1,1)\u001b[0m\u001b[0;34m\u001b[0m\u001b[0;34m\u001b[0m\u001b[0;34m\u001b[0m\u001b[0m\n\u001b[1;32m      6\u001b[0m \u001b[0;31m#plt.plot(res[0,:,1])\u001b[0m\u001b[0;34m\u001b[0m\u001b[0;34m\u001b[0m\u001b[0;34m\u001b[0m\u001b[0m\n",
      "\u001b[0;32m<ipython-input-119-e1f27aea1412>\u001b[0m in \u001b[0;36mLSM\u001b[0;34m(self, N, paths, order, S_defined)\u001b[0m\n\u001b[1;32m     82\u001b[0m             \u001b[0mexercise\u001b[0m \u001b[0;34m=\u001b[0m \u001b[0mnp\u001b[0m\u001b[0;34m.\u001b[0m\u001b[0mzeros\u001b[0m\u001b[0;34m(\u001b[0m\u001b[0mlen\u001b[0m\u001b[0;34m(\u001b[0m\u001b[0mgood_paths\u001b[0m\u001b[0;34m)\u001b[0m\u001b[0;34m,\u001b[0m \u001b[0mdtype\u001b[0m\u001b[0;34m=\u001b[0m\u001b[0mbool\u001b[0m\u001b[0;34m)\u001b[0m\u001b[0;34m\u001b[0m\u001b[0;34m\u001b[0m\u001b[0m\n\u001b[1;32m     83\u001b[0m             \u001b[0mprint\u001b[0m\u001b[0;34m(\u001b[0m\u001b[0mH\u001b[0m\u001b[0;34m[\u001b[0m\u001b[0mgood_paths\u001b[0m\u001b[0;34m,\u001b[0m \u001b[0mt\u001b[0m\u001b[0;34m,\u001b[0m\u001b[0;36m0\u001b[0m\u001b[0;34m]\u001b[0m\u001b[0;34m.\u001b[0m\u001b[0mshape\u001b[0m\u001b[0;34m)\u001b[0m\u001b[0;34m\u001b[0m\u001b[0;34m\u001b[0m\u001b[0m\n\u001b[0;32m---> 84\u001b[0;31m             \u001b[0mexercise\u001b[0m\u001b[0;34m[\u001b[0m\u001b[0mgood_paths\u001b[0m\u001b[0;34m]\u001b[0m \u001b[0;34m=\u001b[0m \u001b[0mH\u001b[0m\u001b[0;34m[\u001b[0m\u001b[0mgood_paths\u001b[0m\u001b[0;34m,\u001b[0m \u001b[0mt\u001b[0m\u001b[0;34m,\u001b[0m\u001b[0;36m0\u001b[0m\u001b[0;34m]\u001b[0m \u001b[0;34m>\u001b[0m \u001b[0mC\u001b[0m\u001b[0;34m\u001b[0m\u001b[0;34m\u001b[0m\u001b[0m\n\u001b[0m\u001b[1;32m     85\u001b[0m \u001b[0;34m\u001b[0m\u001b[0m\n\u001b[1;32m     86\u001b[0m             \u001b[0mV\u001b[0m\u001b[0;34m[\u001b[0m\u001b[0mexercise\u001b[0m\u001b[0;34m,\u001b[0m \u001b[0mt\u001b[0m\u001b[0;34m]\u001b[0m \u001b[0;34m=\u001b[0m \u001b[0mH\u001b[0m\u001b[0;34m[\u001b[0m\u001b[0mexercise\u001b[0m\u001b[0;34m,\u001b[0m \u001b[0mt\u001b[0m\u001b[0;34m]\u001b[0m\u001b[0;34m\u001b[0m\u001b[0;34m\u001b[0m\u001b[0m\n",
      "\u001b[0;31mValueError\u001b[0m: operands could not be broadcast together with shapes (100,) (100,2) "
     ]
    }
   ],
   "source": [
    "from matplotlib import pyplot as plt\n",
    "bs = BS( S = 1, K = 1, T = 1, r = 0.05, sigma = 0.5, times = np.linspace(0,1,100), mu = 0.5, rho = -0.7, kappa = 0.5, \n",
    "        theta = 0.5, xi = 0.5, nu0 = 0.5, d = 1, M = 1, option='put')\n",
    "bs.LSM(100,100)\n",
    "#res = heston(np.linspace(0,1,10000),0.5,-0.7,0.5,0.5,0.5,1,1,1,1)\n",
    "#plt.plot(res[0,:,1])\n"
   ]
  },
  {
   "cell_type": "code",
   "execution_count": null,
   "metadata": {},
   "outputs": [],
   "source": []
  }
 ],
 "metadata": {
  "kernelspec": {
   "display_name": "Python 3",
   "language": "python",
   "name": "python3"
  },
  "language_info": {
   "codemirror_mode": {
    "name": "ipython",
    "version": 3
   },
   "file_extension": ".py",
   "mimetype": "text/x-python",
   "name": "python",
   "nbconvert_exporter": "python",
   "pygments_lexer": "ipython3",
   "version": "3.7.7"
  },
  "pycharm": {
   "stem_cell": {
    "cell_type": "raw",
    "metadata": {
     "collapsed": false
    },
    "source": []
   }
  }
 },
 "nbformat": 4,
 "nbformat_minor": 1
}
