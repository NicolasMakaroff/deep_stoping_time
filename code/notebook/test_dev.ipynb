{
 "cells": [
  {
   "cell_type": "code",
   "execution_count": 42,
   "outputs": [],
   "source": [
    "\n",
    "import numpy as np\n",
    "from scipy.stats import norm\n",
    "from scipy.integrate import quad\n",
    "from scipy.optimize import root"
   ],
   "metadata": {
    "collapsed": false,
    "pycharm": {
     "name": "#%%\n",
     "is_executing": false
    }
   }
  },
  {
   "cell_type": "code",
   "execution_count": 89,
   "metadata": {
    "collapsed": true,
    "pycharm": {
     "is_executing": false
    }
   },
   "outputs": [],
   "source": [
    "\"\"\"\n",
    "%% Summary of CJK_Func.m %%\n",
    "The function generates the value of CJK representation. \n",
    "Note that, this function is not used directly, it is used to solve for Bt\n",
    "--------------------------------------------------------------------------\n",
    "Input:\n",
    "    Bt - the value of boundary at t\n",
    "    Bs - the value of boundary at s\n",
    "    k - strike price\n",
    "    r - risk-free interest rate\n",
    "    q - continuously compounded dividend rate\n",
    "    vol - annualized volatility\n",
    "    T - maturity\n",
    "    t - current time\n",
    "--------------------------------------------------------------------------\n",
    "Output:\n",
    "   y - value of CJK reprentation\n",
    "--------------------------------------------------------------------------\n",
    "Author:\n",
    "    Nattapong Kongmuang\n",
    "    nat.kmg@gmail.com\n",
    "    MSc Financial Engineering, ICMA Centre, Henley Business School, \n",
    "    University of Reading, UK\n",
    "    24 July 2015\n",
    "--------------------------------------------------------------------------\n",
    "\"\"\"\n",
    "\n",
    "def d1(x,y,z,b,vol):\n",
    "   return (np.log(x/y)+(b+0.5*vol**2)*z)/(vol*np.sqrt(z)) \n",
    "\n",
    "def d2(x,y,z,b,vol):\n",
    "    return d1(x,y,z,b,vol)-vol*np.sqrt(z) \n",
    "\n",
    "def CJK_Func( Bt,Bs,k,r,q,vol,T,t ):\n",
    "    \n",
    "    T1 = T-t\n",
    "    b=r-q\n",
    "    term = np.zeros(5)\n",
    "    term[0] = Bt\n",
    "    term[1] = -k\n",
    "    term[2] = k*np.exp(-r*T1)*norm.cdf(-d2(Bt,k,T1,b,vol))\n",
    "    term[3] = -Bt*np.exp(-q*T1)*norm.cdf(-d1(Bt,k,T1,b,vol))\n",
    "    integralFun = lambda s: r*k*np.exp(-r*(s))*norm.cdf(-d2(Bt,Bs,(s),b,vol)) - q*Bt*np.exp(-q*(s))*norm.cdf(-d1(Bt,Bs,(s),b,vol))\n",
    "    term[4] = quad(integralFun,t,T)[0]\n",
    "    y = np.sum(term)\n",
    "    return y\n"
   ]
  },
  {
   "cell_type": "code",
   "execution_count": 90,
   "outputs": [],
   "source": [
    "\"\"\"\n",
    "%% Summary of Boundary.m %%\n",
    "The function generates the early exercise boundary and spot of time by \n",
    "CJK representation\n",
    "--------------------------------------------------------------------------\n",
    "Input:\n",
    "    k - strike price\n",
    "    r - risk-free interest rate\n",
    "    q - continuously compounded dividend rate\n",
    "    vol - annualized volatility\n",
    "    T - time to maturity\n",
    "    steps - a number of time steps in the calculation\n",
    "--------------------------------------------------------------------------\n",
    "Output:\n",
    "    B - the values of early exercise boundary \n",
    "    time - the point of time that each B-value is calculated\n",
    "--------------------------------------------------------------------------\n",
    "Author:\n",
    "    Nattapong Kongmuang\n",
    "    nat.kmg@gmail.com\n",
    "    MSc Financial Engineering, ICMA Centre, Henley Business School, \n",
    "    University of Reading, UK\n",
    "    24 July 2015\n",
    "--------------------------------------------------------------------------\n",
    "\"\"\"\n",
    "def Boundary( k,r,q,vol,T,steps ):\n",
    "    dt=T/steps\n",
    "    t=T\n",
    "    B = np.zeros(steps+1)\n",
    "    time = np.linspace(0,T,np.floor(dt).astype(np.int))\n",
    "    for i  in range(steps,1,-1):\n",
    "        if i==steps:\n",
    "            if q == 0:\n",
    "                B[i]=np.min(k,k*r/q)\n",
    "            else:\n",
    "                B[i]=k\n",
    "        else:\n",
    "            t=t-dt\n",
    "            res=root(lambda Bt: CJK_Func(Bt,B[i+1],k,r,q,vol,T,t) ,k)\n",
    "            B[i] = res.x\n",
    "            \n",
    "    return B"
   ],
   "metadata": {
    "collapsed": false,
    "pycharm": {
     "name": "#%%\n",
     "is_executing": false
    }
   }
  },
  {
   "cell_type": "code",
   "execution_count": 93,
   "outputs": [],
   "source": [
    "s0 = 100\n",
    "k = 100\n",
    "r = 0.07\n",
    "q = 0.03\n",
    "vol = 0.25\n",
    "T=1\n",
    "paths = 100000\n",
    "steps = 100\n",
    "dt=T/steps\n",
    "   \n",
    "B = Boundary( k,r,q,vol,T,steps) "
   ],
   "metadata": {
    "collapsed": false,
    "pycharm": {
     "name": "#%%\n",
     "is_executing": false
    }
   }
  },
  {
   "cell_type": "code",
   "execution_count": 94,
   "outputs": [
    {
     "data": {
      "text/plain": "[<matplotlib.lines.Line2D at 0x7fefd2c5df90>]"
     },
     "metadata": {},
     "output_type": "execute_result",
     "execution_count": 94
    },
    {
     "data": {
      "text/plain": "<Figure size 432x288 with 1 Axes>",
      "image/png": "[encoded data removed]"
     },
     "metadata": {
      "needs_background": "light"
     },
     "output_type": "display_data"
    }
   ],
   "source": [
    "from matplotlib import pyplot as plt\n",
    "plt.plot(B)"
   ],
   "metadata": {
    "collapsed": false,
    "pycharm": {
     "name": "#%%\n",
     "is_executing": false
    }
   }
  },
  {
   "cell_type": "code",
   "execution_count": null,
   "outputs": [],
   "source": [
    "\n"
   ],
   "metadata": {
    "collapsed": false,
    "pycharm": {
     "name": "#%%\n"
    }
   }
  }
 ],
 "metadata": {
  "language_info": {
   "codemirror_mode": {
    "name": "ipython",
    "version": 2
   },
   "file_extension": ".py",
   "mimetype": "text/x-python",
   "name": "python",
   "nbconvert_exporter": "python",
   "pygments_lexer": "ipython2",
   "version": "2.7.6"
  },
  "kernelspec": {
   "name": "python3",
   "language": "python",
   "display_name": "Python 3"
  },
  "pycharm": {
   "stem_cell": {
    "cell_type": "raw",
    "source": [],
    "metadata": {
     "collapsed": false
    }
   }
  }
 },
 "nbformat": 4,
 "nbformat_minor": 0
}