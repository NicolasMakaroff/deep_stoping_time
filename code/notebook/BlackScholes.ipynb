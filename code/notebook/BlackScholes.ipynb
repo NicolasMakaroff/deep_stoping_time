{
 "cells": [
  {
   "cell_type": "code",
   "execution_count": 1,
   "metadata": {
    "collapsed": true,
    "pycharm": {
     "is_executing": false
    }
   },
   "outputs": [],
   "source": [
    "import numpy as np\n",
    "from matplotlib.pyplot import plot, show, grid, xlabel, ylabel\n",
    "\n",
    "import os\n",
    "import sys\n",
    "\n",
    "\n",
    "# Important directories\n",
    "code_dir = os.path.dirname(os.getcwd())\n",
    "module_dir = os.path.dirname(os.path.dirname(os.getcwd()))\n",
    "\n",
    "# Allows to import my own module\n",
    "sys.path.insert(0, code_dir)\n",
    "\n",
    "from LongstaffSchwarz.model import BS"
   ]
  },
  {
   "cell_type": "code",
   "execution_count": 2,
   "outputs": [],
   "source": [
    "S = np.array([\n",
    "            [1.00, 1.09, 1.08, 1.34],\n",
    "            [1.00, 1.16, 1.26, 1.54],\n",
    "            [1.00, 1.22, 1.07, 1.03],\n",
    "            [1.00, 0.93, 0.97, 0.92],\n",
    "            [1.00, 1.11, 1.56, 1.52],\n",
    "            [1.00, 0.76, 0.77, 0.90],\n",
    "            [1.00, 0.92, 0.84, 1.01],\n",
    "            [1.00, 0.88, 1.22, 1.34]])\n",
    "K = 1.1\n",
    "r = 0.06\n",
    "T = 3\n",
    "sigma = 0.5"
   ],
   "metadata": {
    "collapsed": false,
    "pycharm": {
     "name": "#%%\n",
     "is_executing": false
    }
   }
  },
  {
   "cell_type": "code",
   "execution_count": 3,
   "outputs": [],
   "source": [
    "bs = BS(S, K, T, r, sigma, 'put')"
   ],
   "metadata": {
    "collapsed": false,
    "pycharm": {
     "name": "#%%\n",
     "is_executing": false
    }
   }
  },
  {
   "cell_type": "code",
   "execution_count": 4,
   "outputs": [
    {
     "data": {
      "text/plain": "0.11443433004505696"
     },
     "metadata": {},
     "output_type": "execute_result",
     "execution_count": 4
    }
   ],
   "source": [
    "N = 4\n",
    "paths = 8\n",
    "order = 2\n",
    "bs.LSM(N,paths,order)"
   ],
   "metadata": {
    "collapsed": false,
    "pycharm": {
     "name": "#%%\n",
     "is_executing": false
    }
   }
  },
  {
   "cell_type": "code",
   "execution_count": 5,
   "outputs": [],
   "source": [
    "S = 36\n",
    "sigma = 0.2\n",
    "T = 1\n",
    "r = 0.06\n",
    "K = 40\n",
    "N = 50\n",
    "paths = 100000\n"
   ],
   "metadata": {
    "collapsed": false,
    "pycharm": {
     "name": "#%%\n",
     "is_executing": false
    }
   }
  },
  {
   "cell_type": "code",
   "execution_count": 6,
   "outputs": [],
   "source": [
    "bs = BS(S, K, T, r, sigma, 'put')\n"
   ],
   "metadata": {
    "collapsed": false,
    "pycharm": {
     "name": "#%%\n",
     "is_executing": false
    }
   }
  },
  {
   "cell_type": "code",
   "execution_count": 7,
   "outputs": [
    {
     "data": {
      "text/plain": "4.4740245523230895"
     },
     "metadata": {},
     "output_type": "execute_result",
     "execution_count": 7
    }
   ],
   "source": [
    "bs.LSM(N, paths, order,True)"
   ],
   "metadata": {
    "collapsed": false,
    "pycharm": {
     "name": "#%%\n",
     "is_executing": false
    }
   }
  },
  {
   "cell_type": "code",
   "execution_count": null,
   "outputs": [],
   "source": [
    "from LongstaffSchwarz.stochasticprocesses import FractionalBrownianMotion\n",
    "f = FractionalBrownianMotion(n=10000, hurst=0.9, length=1)\n",
    "sample = np.ones((100,10001))\n",
    "for i in range(100):\n",
    "    fbm_sample = f.simulate()\n",
    "    sample[i,:] = fbm_sample"
   ],
   "metadata": {
    "collapsed": false,
    "pycharm": {
     "name": "#%%\n",
     "is_executing": true
    }
   }
  },
  {
   "cell_type": "code",
   "execution_count": 45,
   "outputs": [],
   "source": [
    "K = 0.\n",
    "r = 0.15\n",
    "T = 100.0\n",
    "bs = BS(sample, K, T, r, sigma, 'put') "
   ],
   "metadata": {
    "collapsed": false,
    "pycharm": {
     "name": "#%%\n",
     "is_executing": false
    }
   }
  },
  {
   "cell_type": "code",
   "execution_count": 46,
   "outputs": [
    {
     "data": {
      "text/plain": "0.015853963412133226"
     },
     "metadata": {},
     "output_type": "execute_result",
     "execution_count": 46
    }
   ],
   "source": [
    "bs.LSM(10001,100,order,False)"
   ],
   "metadata": {
    "collapsed": false,
    "pycharm": {
     "name": "#%%\n",
     "is_executing": false
    }
   }
  },
  {
   "cell_type": "code",
   "execution_count": 28,
   "outputs": [
    {
     "data": {
      "text/plain": "array([[ 0.        ,  0.00265954,  0.00144749, ..., -0.27028794,\n        -0.26766906, -0.26775261],\n       [ 0.        , -0.00149167, -0.0064107 , ...,  0.58120377,\n         0.59016859,  0.59641511],\n       [ 0.        ,  0.00199049,  0.00366411, ...,  0.23630764,\n         0.22913926,  0.22273401],\n       ...,\n       [ 0.        ,  0.00164411, -0.01644553, ..., -1.30994379,\n        -1.32060595, -1.32864973],\n       [ 0.        , -0.00681887, -0.02324434, ..., -0.37406866,\n        -0.37261936, -0.39096771],\n       [ 0.        ,  0.00199681,  0.00493439, ...,  0.34440832,\n         0.35117503,  0.35817326]])"
     },
     "metadata": {},
     "output_type": "execute_result",
     "execution_count": 28
    }
   ],
   "source": [
    "sample"
   ],
   "metadata": {
    "collapsed": false,
    "pycharm": {
     "name": "#%%\n",
     "is_executing": false
    }
   }
  },
  {
   "cell_type": "code",
   "execution_count": null,
   "outputs": [],
   "source": [
    "\n"
   ],
   "metadata": {
    "collapsed": false,
    "pycharm": {
     "name": "#%%\n"
    }
   }
  }
 ],
 "metadata": {
  "language_info": {
   "codemirror_mode": {
    "name": "ipython",
    "version": 2
   },
   "file_extension": ".py",
   "mimetype": "text/x-python",
   "name": "python",
   "nbconvert_exporter": "python",
   "pygments_lexer": "ipython2",
   "version": "2.7.6"
  },
  "kernelspec": {
   "name": "python3",
   "language": "python",
   "display_name": "Python 3"
  },
  "pycharm": {
   "stem_cell": {
    "cell_type": "raw",
    "source": [],
    "metadata": {
     "collapsed": false
    }
   }
  }
 },
 "nbformat": 4,
 "nbformat_minor": 0
}