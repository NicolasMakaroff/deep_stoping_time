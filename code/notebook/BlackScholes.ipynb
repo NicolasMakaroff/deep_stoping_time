{
 "cells": [
  {
   "cell_type": "code",
   "execution_count": 1,
   "metadata": {
    "pycharm": {
     "is_executing": false
    }
   },
   "outputs": [],
   "source": [
    "import numpy as np\n",
    "from matplotlib.pyplot import plot, show, grid, xlabel, ylabel\n",
    "from tqdm.notebook import tqdm \n",
    "import os\n",
    "import sys\n",
    "\n",
    "\n",
    "# Important directories\n",
    "code_dir = os.path.dirname(os.getcwd())\n",
    "module_dir = os.path.dirname(os.path.dirname(os.getcwd()))\n",
    "\n",
    "# Allows to import my own module\n",
    "sys.path.insert(0, code_dir)\n",
    "\n",
    "from LongstaffSchwarz.model import BS"
   ]
  },
  {
   "cell_type": "code",
   "execution_count": 19,
   "metadata": {
    "pycharm": {
     "is_executing": false,
     "name": "#%%\n"
    }
   },
   "outputs": [],
   "source": [
    "S = np.array([\n",
    "            [1.00, 1.09, 1.08, 1.34],\n",
    "            [1.00, 1.16, 1.26, 1.54],\n",
    "            [1.00, 1.22, 1.07, 1.03],\n",
    "            [1.00, 0.93, 0.97, 0.92],\n",
    "            [1.00, 1.11, 1.56, 1.52],\n",
    "            [1.00, 0.76, 0.77, 0.90],\n",
    "            [1.00, 0.92, 0.84, 1.01],\n",
    "            [1.00, 0.88, 1.22, 1.34]])\n",
    "K = 1.1\n",
    "r = 0.06\n",
    "T = 3\n",
    "sigma = 0.5"
   ]
  },
  {
   "cell_type": "code",
   "execution_count": 20,
   "metadata": {
    "pycharm": {
     "is_executing": false,
     "name": "#%%\n"
    }
   },
   "outputs": [],
   "source": [
    "bs = BS(S, K, T, r, sigma, 'put')"
   ]
  },
  {
   "cell_type": "code",
   "execution_count": 21,
   "metadata": {
    "pycharm": {
     "is_executing": false,
     "name": "#%%\n"
    }
   },
   "outputs": [
    {
     "data": {
      "text/plain": "0.11443433004505696"
     },
     "metadata": {},
     "output_type": "execute_result",
     "execution_count": 21
    }
   ],
   "source": [
    "N = 4\n",
    "paths = 8\n",
    "order = 2\n",
    "bs.LSM(N,paths,order)"
   ]
  },
  {
   "cell_type": "code",
   "execution_count": 25,
   "metadata": {
    "pycharm": {
     "is_executing": false,
     "name": "#%%\n"
    }
   },
   "outputs": [],
   "source": [
    "S = 36\n",
    "sigma = 0.2\n",
    "T = 1\n",
    "r = 0.06\n",
    "K = 40\n",
    "N = 50\n",
    "paths = 100000\n"
   ]
  },
  {
   "cell_type": "code",
   "execution_count": 26,
   "metadata": {
    "pycharm": {
     "is_executing": false,
     "name": "#%%\n"
    }
   },
   "outputs": [],
   "source": [
    "bs = BS(S, K, T, r, sigma, 'call')\n"
   ]
  },
  {
   "cell_type": "code",
   "execution_count": 27,
   "metadata": {
    "pycharm": {
     "is_executing": false,
     "name": "#%%\n"
    }
   },
   "outputs": [
    {
     "traceback": [
      "\u001b[0;31m---------------------------------------------------------------------------\u001b[0m",
      "\u001b[0;31mValueError\u001b[0m                                Traceback (most recent call last)",
      "\u001b[0;32m<ipython-input-27-9e5b5f13f830>\u001b[0m in \u001b[0;36m<module>\u001b[0;34m\u001b[0m\n\u001b[0;32m----> 1\u001b[0;31m \u001b[0mbs\u001b[0m\u001b[0;34m.\u001b[0m\u001b[0mLSM\u001b[0m\u001b[0;34m(\u001b[0m\u001b[0mN\u001b[0m\u001b[0;34m,\u001b[0m \u001b[0mpaths\u001b[0m\u001b[0;34m,\u001b[0m \u001b[0morder\u001b[0m\u001b[0;34m,\u001b[0m\u001b[0;32mTrue\u001b[0m\u001b[0;34m)\u001b[0m\u001b[0;34m\u001b[0m\u001b[0;34m\u001b[0m\u001b[0m\n\u001b[0m",
      "\u001b[0;32m~/Desktop/stage2a/deep_stoping_time/code/LongstaffSchwarz/model.py\u001b[0m in \u001b[0;36mLSM\u001b[0;34m(self, N, paths, order, S_defined)\u001b[0m\n\u001b[1;32m     47\u001b[0m \u001b[0;34m\u001b[0m\u001b[0m\n\u001b[1;32m     48\u001b[0m         \u001b[0;32mif\u001b[0m \u001b[0mself\u001b[0m\u001b[0;34m.\u001b[0m\u001b[0moption\u001b[0m \u001b[0;34m!=\u001b[0m \u001b[0;34m\"put\"\u001b[0m\u001b[0;34m:\u001b[0m\u001b[0;34m\u001b[0m\u001b[0;34m\u001b[0m\u001b[0m\n\u001b[0;32m---> 49\u001b[0;31m             \u001b[0;32mraise\u001b[0m \u001b[0mValueError\u001b[0m\u001b[0;34m(\u001b[0m\u001b[0;34m\"invalid type. Set 'call' or 'put'\"\u001b[0m\u001b[0;34m)\u001b[0m\u001b[0;34m\u001b[0m\u001b[0;34m\u001b[0m\u001b[0m\n\u001b[0m\u001b[1;32m     50\u001b[0m \u001b[0;34m\u001b[0m\u001b[0m\n\u001b[1;32m     51\u001b[0m         \u001b[0mdt\u001b[0m \u001b[0;34m=\u001b[0m \u001b[0mself\u001b[0m\u001b[0;34m.\u001b[0m\u001b[0mT\u001b[0m \u001b[0;34m/\u001b[0m \u001b[0;34m(\u001b[0m\u001b[0mN\u001b[0m \u001b[0;34m-\u001b[0m \u001b[0;36m1\u001b[0m\u001b[0;34m)\u001b[0m  \u001b[0;31m# time interval\u001b[0m\u001b[0;34m\u001b[0m\u001b[0;34m\u001b[0m\u001b[0m\n",
      "\u001b[0;31mValueError\u001b[0m: invalid type. Set 'call' or 'put'"
     ],
     "ename": "ValueError",
     "evalue": "invalid type. Set 'call' or 'put'",
     "output_type": "error"
    }
   ],
   "source": [
    "bs.LSM(N, paths, order,True)"
   ]
  },
  {
   "cell_type": "code",
   "execution_count": 11,
   "metadata": {
    "pycharm": {
     "is_executing": false,
     "name": "#%%\n"
    }
   },
   "outputs": [],
   "source": [
    "from LongstaffSchwarz.stochasticprocesses import FractionalBrownianMotion\n",
    "\n",
    "def Plot(x):\n",
    "    f = FractionalBrownianMotion(n=300, hurst=x, length=1)\n",
    "    sample = np.ones((1000,301))\n",
    "    for i in range(1000):\n",
    "        fbm_sample = f.simulate()\n",
    "        sample[i,:] = fbm_sample\n",
    "    K = 0.\n",
    "    r = 0.0\n",
    "    T = 100.0\n",
    "    sigma = 0.\n",
    "    bs = BS(sample, K, T, r, sigma, 'put')\n",
    "    tt = bs.LSM(301,1000,2,'bs')\n",
    "    return tt"
   ]
  },
  {
   "cell_type": "code",
   "execution_count": 12,
   "metadata": {
    "pycharm": {
     "is_executing": false,
     "name": "#%%\n"
    }
   },
   "outputs": [
    {
     "data": {
      "text/plain": "HBox(children=(FloatProgress(value=0.0, max=10.0), HTML(value='')))",
      "application/vnd.jupyter.widget-view+json": {
       "version_major": 2,
       "version_minor": 0,
       "model_id": "35b06a5e52ab428f8f053c00134e2171"
      }
     },
     "metadata": {},
     "output_type": "display_data"
    },
    {
     "name": "stdout",
     "text": [
      "\n"
     ],
     "output_type": "stream"
    }
   ],
   "source": [
    "l = []\n",
    "loop = tqdm(np.linspace(.2,0.99,10))\n",
    "for i in loop:\n",
    "    l.append(Plot(i))"
   ]
  },
  {
   "cell_type": "code",
   "execution_count": 13,
   "metadata": {
    "pycharm": {
     "is_executing": false,
     "name": "#%%\n"
    }
   },
   "outputs": [
    {
     "data": {
      "text/plain": "[<matplotlib.lines.Line2D at 0x7fbaf2d518d0>]"
     },
     "metadata": {},
     "output_type": "execute_result",
     "execution_count": 13
    },
    {
     "data": {
      "text/plain": "<Figure size 432x288 with 1 Axes>",
      "image/png": "[encoded data removed]"
     },
     "metadata": {
      "needs_background": "light"
     },
     "output_type": "display_data"
    }
   ],
   "source": [
    "plot(np.linspace(.2,0.99,10),l)"
   ]
  },
  {
   "cell_type": "code",
   "execution_count": null,
   "metadata": {
    "pycharm": {
     "name": "#%%\n"
    }
   },
   "outputs": [],
   "source": [
    "\n"
   ]
  }
 ],
 "metadata": {
  "kernelspec": {
   "display_name": "Python 3",
   "language": "python",
   "name": "python3"
  },
  "language_info": {
   "codemirror_mode": {
    "name": "ipython",
    "version": 3
   },
   "file_extension": ".py",
   "mimetype": "text/x-python",
   "name": "python",
   "nbconvert_exporter": "python",
   "pygments_lexer": "ipython3",
   "version": "3.7.7"
  },
  "pycharm": {
   "stem_cell": {
    "cell_type": "raw",
    "source": [],
    "metadata": {
     "collapsed": false
    }
   }
  }
 },
 "nbformat": 4,
 "nbformat_minor": 1
}